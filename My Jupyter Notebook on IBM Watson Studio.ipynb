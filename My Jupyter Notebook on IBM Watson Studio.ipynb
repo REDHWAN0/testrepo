{
 "cells": [
  {
   "cell_type": "markdown",
   "metadata": {},
   "source": [
    "<center>\n",
    "    <img src=\"https://s3-api.us-geo.objectstorage.softlayer.net/cf-courses-data/CognitiveClass/Logos/organization_logo/organization_logo.png\" width=\"300\" alt=\"cognitiveclass.ai logo\"  />\n",
    "</center>\n"
   ]
  },
  {
   "cell_type": "markdown",
   "metadata": {},
   "source": [
    "# My Jupyter Notebook on IBM Watson Studio\n"
   ]
  },
  {
   "cell_type": "markdown",
   "metadata": {},
   "source": [
    "## **Hello everyone, my name is REDHWAN MOHAMMED**"
   ]
  },
  {
   "cell_type": "markdown",
   "metadata": {},
   "source": [
    "\n",
    "*I am currently looking for a job as a data analyst or data scientist.\n",
    "I am interested in data science because this role is an important helper to increase marketing efficiency. This includes acquiring new customers, helping predict long-term revenue, design a storage system structure, and then create a data analysis model.*"
   ]
  },
  {
   "cell_type": "markdown",
   "metadata": {},
   "source": [
    "### Simulation Prediction with small data\n",
    "This will show you to create simple linear regression modeling to be used as a prediction model.\n",
    "Here there are two variables, x and y, which are divided into 2 subsets:\n",
    "1. and y1 are used to create the model.            \n",
    "2. and y2 are used to test the generated model.\n"
   ]
  },
  {
   "cell_type": "markdown",
   "metadata": {},
   "source": [
    "\n",
    "### Numbered lists:\n",
    "\n",
    "1. Line number one\n",
    "2. Line numer two\n",
    "\n",
    "    A. Sub line numer one              \n",
    "    B. Sub line muber two\n",
    "\n",
    "\n",
    "\n"
   ]
  },
  {
   "cell_type": "markdown",
   "metadata": {},
   "source": [
    "### Mathematical symbols\n",
    "\n",
    "\n",
    "    1+1=2"
   ]
  },
  {
   "attachments": {
    "f267c8f6-6662-45a0-a1e2-6d6b5d76bfc1.png": {
     "image/png": "[encoded data removed]"
    }
   },
   "cell_type": "markdown",
   "metadata": {},
   "source": [
    "### Image\n",
    "\n",
    "                           \n",
    "   ![IBM.png](attachment:f267c8f6-6662-45a0-a1e2-6d6b5d76bfc1.png)"
   ]
  },
  {
   "cell_type": "markdown",
   "metadata": {},
   "source": [
    "### Colors\n",
    "\n",
    "   \n",
    "   <font color=blue>Front color is blue</font>\n",
    "    \n",
    "   <font color=red>Front color is red</font>\n",
    "    \n",
    "   <font color=yellow>Front color is yellow</font>\n",
    "    \n",
    "    \n"
   ]
  },
  {
   "cell_type": "markdown",
   "metadata": {},
   "source": [
    "### Links\n",
    "    \n",
    "   [Click here to Google](https://www.google.com/)"
   ]
  }
 ],
 "metadata": {
  "kernelspec": {
   "display_name": "Python",
   "language": "python",
   "name": "conda-env-python-py"
  },
  "language_info": {
   "codemirror_mode": {
    "name": "ipython",
    "version": 3
   },
   "file_extension": ".py",
   "mimetype": "text/x-python",
   "name": "python",
   "nbconvert_exporter": "python",
   "pygments_lexer": "ipython3",
   "version": "3.7.12"
  }
 },
 "nbformat": 4,
 "nbformat_minor": 4
}
